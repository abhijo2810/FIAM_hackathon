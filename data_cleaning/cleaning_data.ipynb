{
 "cells": [
  {
   "cell_type": "code",
   "execution_count": 1,
   "metadata": {},
   "outputs": [],
   "source": [
    "import pandas as pd"
   ]
  },
  {
   "cell_type": "code",
   "execution_count": 2,
   "metadata": {},
   "outputs": [
    {
     "data": {
      "text/html": [
       "<div>\n",
       "<style scoped>\n",
       "    .dataframe tbody tr th:only-of-type {\n",
       "        vertical-align: middle;\n",
       "    }\n",
       "\n",
       "    .dataframe tbody tr th {\n",
       "        vertical-align: top;\n",
       "    }\n",
       "\n",
       "    .dataframe thead th {\n",
       "        text-align: right;\n",
       "    }\n",
       "</style>\n",
       "<table border=\"1\" class=\"dataframe\">\n",
       "  <thead>\n",
       "    <tr style=\"text-align: right;\">\n",
       "      <th></th>\n",
       "      <th>date</th>\n",
       "      <th>ret_eom</th>\n",
       "      <th>permno</th>\n",
       "      <th>exchcd</th>\n",
       "      <th>shrcd</th>\n",
       "      <th>mspread</th>\n",
       "      <th>year</th>\n",
       "      <th>month</th>\n",
       "      <th>size_port</th>\n",
       "      <th>rf</th>\n",
       "      <th>...</th>\n",
       "      <th>betadown_252d</th>\n",
       "      <th>bidaskhl_21d</th>\n",
       "      <th>corr_1260d</th>\n",
       "      <th>betabab_1260d</th>\n",
       "      <th>rmax5_rvol_21d</th>\n",
       "      <th>age</th>\n",
       "      <th>qmj</th>\n",
       "      <th>qmj_prof</th>\n",
       "      <th>qmj_growth</th>\n",
       "      <th>qmj_safety</th>\n",
       "    </tr>\n",
       "  </thead>\n",
       "  <tbody>\n",
       "    <tr>\n",
       "      <th>0</th>\n",
       "      <td>20000131</td>\n",
       "      <td>20000131</td>\n",
       "      <td>10078</td>\n",
       "      <td>11</td>\n",
       "      <td>3</td>\n",
       "      <td>0.017178</td>\n",
       "      <td>2000</td>\n",
       "      <td>1</td>\n",
       "      <td>B</td>\n",
       "      <td>0.0041</td>\n",
       "      <td>...</td>\n",
       "      <td>2.219037</td>\n",
       "      <td>0.012635</td>\n",
       "      <td>0.504688</td>\n",
       "      <td>1.581540</td>\n",
       "      <td>1.373224</td>\n",
       "      <td>180</td>\n",
       "      <td>1.700939</td>\n",
       "      <td>1.711756</td>\n",
       "      <td>1.476410</td>\n",
       "      <td>1.087626</td>\n",
       "    </tr>\n",
       "    <tr>\n",
       "      <th>1</th>\n",
       "      <td>20000131</td>\n",
       "      <td>20000131</td>\n",
       "      <td>10104</td>\n",
       "      <td>11</td>\n",
       "      <td>3</td>\n",
       "      <td>0.019720</td>\n",
       "      <td>2000</td>\n",
       "      <td>1</td>\n",
       "      <td>B</td>\n",
       "      <td>0.0041</td>\n",
       "      <td>...</td>\n",
       "      <td>1.437330</td>\n",
       "      <td>0.016634</td>\n",
       "      <td>0.473872</td>\n",
       "      <td>1.941648</td>\n",
       "      <td>2.058353</td>\n",
       "      <td>180</td>\n",
       "      <td>0.828930</td>\n",
       "      <td>1.717670</td>\n",
       "      <td>-0.603531</td>\n",
       "      <td>0.608215</td>\n",
       "    </tr>\n",
       "    <tr>\n",
       "      <th>2</th>\n",
       "      <td>20000131</td>\n",
       "      <td>20000131</td>\n",
       "      <td>10107</td>\n",
       "      <td>11</td>\n",
       "      <td>3</td>\n",
       "      <td>0.011369</td>\n",
       "      <td>2000</td>\n",
       "      <td>1</td>\n",
       "      <td>B</td>\n",
       "      <td>0.0041</td>\n",
       "      <td>...</td>\n",
       "      <td>1.466883</td>\n",
       "      <td>0.003855</td>\n",
       "      <td>0.563178</td>\n",
       "      <td>1.228124</td>\n",
       "      <td>1.899772</td>\n",
       "      <td>180</td>\n",
       "      <td>1.190962</td>\n",
       "      <td>1.682187</td>\n",
       "      <td>-0.583515</td>\n",
       "      <td>1.336684</td>\n",
       "    </tr>\n",
       "    <tr>\n",
       "      <th>3</th>\n",
       "      <td>20000131</td>\n",
       "      <td>20000131</td>\n",
       "      <td>10108</td>\n",
       "      <td>11</td>\n",
       "      <td>1</td>\n",
       "      <td>0.010600</td>\n",
       "      <td>2000</td>\n",
       "      <td>1</td>\n",
       "      <td>B</td>\n",
       "      <td>0.0041</td>\n",
       "      <td>...</td>\n",
       "      <td>-0.285524</td>\n",
       "      <td>0.015658</td>\n",
       "      <td>0.327841</td>\n",
       "      <td>0.952188</td>\n",
       "      <td>1.187073</td>\n",
       "      <td>180</td>\n",
       "      <td>1.332815</td>\n",
       "      <td>1.453165</td>\n",
       "      <td>0.210170</td>\n",
       "      <td>1.130917</td>\n",
       "    </tr>\n",
       "    <tr>\n",
       "      <th>4</th>\n",
       "      <td>20000131</td>\n",
       "      <td>20000131</td>\n",
       "      <td>10119</td>\n",
       "      <td>11</td>\n",
       "      <td>1</td>\n",
       "      <td>0.003485</td>\n",
       "      <td>2000</td>\n",
       "      <td>1</td>\n",
       "      <td>B</td>\n",
       "      <td>0.0041</td>\n",
       "      <td>...</td>\n",
       "      <td>0.217867</td>\n",
       "      <td>0.004411</td>\n",
       "      <td>0.289368</td>\n",
       "      <td>0.457370</td>\n",
       "      <td>0.715285</td>\n",
       "      <td>228</td>\n",
       "      <td>0.785417</td>\n",
       "      <td>-0.381167</td>\n",
       "      <td>1.689625</td>\n",
       "      <td>0.331900</td>\n",
       "    </tr>\n",
       "  </tbody>\n",
       "</table>\n",
       "<p>5 rows × 165 columns</p>\n",
       "</div>"
      ],
      "text/plain": [
       "       date   ret_eom  permno  exchcd  shrcd   mspread  year  month size_port  \\\n",
       "0  20000131  20000131   10078      11      3  0.017178  2000      1         B   \n",
       "1  20000131  20000131   10104      11      3  0.019720  2000      1         B   \n",
       "2  20000131  20000131   10107      11      3  0.011369  2000      1         B   \n",
       "3  20000131  20000131   10108      11      1  0.010600  2000      1         B   \n",
       "4  20000131  20000131   10119      11      1  0.003485  2000      1         B   \n",
       "\n",
       "       rf  ...  betadown_252d bidaskhl_21d corr_1260d betabab_1260d  \\\n",
       "0  0.0041  ...       2.219037     0.012635   0.504688      1.581540   \n",
       "1  0.0041  ...       1.437330     0.016634   0.473872      1.941648   \n",
       "2  0.0041  ...       1.466883     0.003855   0.563178      1.228124   \n",
       "3  0.0041  ...      -0.285524     0.015658   0.327841      0.952188   \n",
       "4  0.0041  ...       0.217867     0.004411   0.289368      0.457370   \n",
       "\n",
       "   rmax5_rvol_21d  age       qmj  qmj_prof  qmj_growth  qmj_safety  \n",
       "0        1.373224  180  1.700939  1.711756    1.476410    1.087626  \n",
       "1        2.058353  180  0.828930  1.717670   -0.603531    0.608215  \n",
       "2        1.899772  180  1.190962  1.682187   -0.583515    1.336684  \n",
       "3        1.187073  180  1.332815  1.453165    0.210170    1.130917  \n",
       "4        0.715285  228  0.785417 -0.381167    1.689625    0.331900  \n",
       "\n",
       "[5 rows x 165 columns]"
      ]
     },
     "execution_count": 2,
     "metadata": {},
     "output_type": "execute_result"
    }
   ],
   "source": [
    "df = pd.read_csv('hackathon_sample_v2.csv')\n",
    "df.head()"
   ]
  },
  {
   "cell_type": "code",
   "execution_count": 3,
   "metadata": {},
   "outputs": [],
   "source": [
    "# Ensure the 'date' column is string (or integer will also work)\n",
    "df['date'] = df['date'].astype(str)\n",
    "\n",
    "# Convert the 'date' column to datetime\n",
    "df['date'] = pd.to_datetime(df['date'], format='%Y%m%d')"
   ]
  },
  {
   "cell_type": "code",
   "execution_count": 4,
   "metadata": {},
   "outputs": [],
   "source": [
    "\n",
    "start_date = '2000-01-01'\n",
    "end_date = '2023-12-31'\n",
    "\n",
    "\n",
    "df_filtered = df[(df['date'] >= start_date) & (df['date'] <= end_date)]"
   ]
  },
  {
   "cell_type": "code",
   "execution_count": 5,
   "metadata": {},
   "outputs": [],
   "source": [
    "# Extract the year and month as a 'Year-Month' period\n",
    "df_filtered['year_month'] = df_filtered['date'].dt.to_period('M')\n"
   ]
  },
  {
   "cell_type": "code",
   "execution_count": 6,
   "metadata": {},
   "outputs": [],
   "source": [
    "monthly_stock_ticker = df_filtered.groupby(['stock_ticker', 'year_month']).size().reset_index(name='count')\n",
    "\n",
    "monthly_stock_ticker.drop(columns=['count'], inplace=True)\n",
    "\n",
    "full_month_range = pd.period_range(start=start_date, end=end_date, freq='M')\n",
    "stock_tickers = df_filtered['stock_ticker'].unique()\n",
    "full_index = pd.MultiIndex.from_product([stock_tickers, full_month_range], names=['stock_ticker', 'year_month'])\n",
    "\n",
    "monthly_stock_ticker_complete = monthly_stock_ticker.set_index(['stock_ticker', 'year_month']).reindex(full_index, fill_value=0).reset_index()\n",
    "\n",
    "monthly_stock_ticker_complete = monthly_stock_ticker_complete.sort_values(by=['year_month', 'stock_ticker']).reset_index(drop=True)\n"
   ]
  },
  {
   "cell_type": "code",
   "execution_count": 7,
   "metadata": {},
   "outputs": [
    {
     "data": {
      "text/html": [
       "<div>\n",
       "<style scoped>\n",
       "    .dataframe tbody tr th:only-of-type {\n",
       "        vertical-align: middle;\n",
       "    }\n",
       "\n",
       "    .dataframe tbody tr th {\n",
       "        vertical-align: top;\n",
       "    }\n",
       "\n",
       "    .dataframe thead th {\n",
       "        text-align: right;\n",
       "    }\n",
       "</style>\n",
       "<table border=\"1\" class=\"dataframe\">\n",
       "  <thead>\n",
       "    <tr style=\"text-align: right;\">\n",
       "      <th></th>\n",
       "      <th>stock_ticker</th>\n",
       "      <th>year_month</th>\n",
       "    </tr>\n",
       "  </thead>\n",
       "  <tbody>\n",
       "    <tr>\n",
       "      <th>0</th>\n",
       "      <td>A</td>\n",
       "      <td>2000-01</td>\n",
       "    </tr>\n",
       "    <tr>\n",
       "      <th>1</th>\n",
       "      <td>AA</td>\n",
       "      <td>2000-01</td>\n",
       "    </tr>\n",
       "    <tr>\n",
       "      <th>2</th>\n",
       "      <td>AAI</td>\n",
       "      <td>2000-01</td>\n",
       "    </tr>\n",
       "    <tr>\n",
       "      <th>3</th>\n",
       "      <td>AAL</td>\n",
       "      <td>2000-01</td>\n",
       "    </tr>\n",
       "    <tr>\n",
       "      <th>4</th>\n",
       "      <td>AAN</td>\n",
       "      <td>2000-01</td>\n",
       "    </tr>\n",
       "  </tbody>\n",
       "</table>\n",
       "</div>"
      ],
      "text/plain": [
       "  stock_ticker year_month\n",
       "0            A    2000-01\n",
       "1           AA    2000-01\n",
       "2          AAI    2000-01\n",
       "3          AAL    2000-01\n",
       "4          AAN    2000-01"
      ]
     },
     "execution_count": 7,
     "metadata": {},
     "output_type": "execute_result"
    }
   ],
   "source": [
    "monthly_stock_ticker_complete.head()"
   ]
  },
  {
   "cell_type": "code",
   "execution_count": 8,
   "metadata": {},
   "outputs": [
    {
     "data": {
      "text/html": [
       "<div>\n",
       "<style scoped>\n",
       "    .dataframe tbody tr th:only-of-type {\n",
       "        vertical-align: middle;\n",
       "    }\n",
       "\n",
       "    .dataframe tbody tr th {\n",
       "        vertical-align: top;\n",
       "    }\n",
       "\n",
       "    .dataframe thead th {\n",
       "        text-align: right;\n",
       "    }\n",
       "</style>\n",
       "<table border=\"1\" class=\"dataframe\">\n",
       "  <thead>\n",
       "    <tr style=\"text-align: right;\">\n",
       "      <th></th>\n",
       "      <th>stock_ticker</th>\n",
       "      <th>year_month</th>\n",
       "    </tr>\n",
       "  </thead>\n",
       "  <tbody>\n",
       "    <tr>\n",
       "      <th>count</th>\n",
       "      <td>1026720</td>\n",
       "      <td>1027008</td>\n",
       "    </tr>\n",
       "    <tr>\n",
       "      <th>unique</th>\n",
       "      <td>3565</td>\n",
       "      <td>288</td>\n",
       "    </tr>\n",
       "    <tr>\n",
       "      <th>top</th>\n",
       "      <td>A</td>\n",
       "      <td>2000-01</td>\n",
       "    </tr>\n",
       "    <tr>\n",
       "      <th>freq</th>\n",
       "      <td>288</td>\n",
       "      <td>3566</td>\n",
       "    </tr>\n",
       "  </tbody>\n",
       "</table>\n",
       "</div>"
      ],
      "text/plain": [
       "       stock_ticker year_month\n",
       "count       1026720    1027008\n",
       "unique         3565        288\n",
       "top               A    2000-01\n",
       "freq            288       3566"
      ]
     },
     "execution_count": 8,
     "metadata": {},
     "output_type": "execute_result"
    }
   ],
   "source": [
    "monthly_stock_ticker_complete.describe()"
   ]
  },
  {
   "cell_type": "code",
   "execution_count": 9,
   "metadata": {},
   "outputs": [],
   "source": [
    "random_stocks = ['AAPL', 'MSFT']\n",
    "\n",
    "df_random_selection = monthly_stock_ticker_complete[monthly_stock_ticker_complete['stock_ticker'].isin(random_stocks)]"
   ]
  },
  {
   "cell_type": "code",
   "execution_count": 10,
   "metadata": {},
   "outputs": [
    {
     "name": "stdout",
     "output_type": "stream",
     "text": [
      "['AAPL', 'MSFT']\n"
     ]
    }
   ],
   "source": [
    "cols = df_random_selection['stock_ticker'].unique().tolist()\n",
    "print(cols)"
   ]
  },
  {
   "cell_type": "code",
   "execution_count": 11,
   "metadata": {},
   "outputs": [
    {
     "name": "stderr",
     "output_type": "stream",
     "text": [
      "/var/folders/rs/ff_lqcyn0t32gsscnqlrvhbw0000gn/T/ipykernel_58334/3401991823.py:1: SettingWithCopyWarning: \n",
      "A value is trying to be set on a copy of a slice from a DataFrame.\n",
      "Try using .loc[row_indexer,col_indexer] = value instead\n",
      "\n",
      "See the caveats in the documentation: https://pandas.pydata.org/pandas-docs/stable/user_guide/indexing.html#returning-a-view-versus-a-copy\n",
      "  df_random_selection['year_month'] = pd.to_datetime(df_random_selection['year_month'].astype(str) + '-01')  # Set to first day of month\n",
      "/var/folders/rs/ff_lqcyn0t32gsscnqlrvhbw0000gn/T/ipykernel_58334/3401991823.py:3: SettingWithCopyWarning: \n",
      "A value is trying to be set on a copy of a slice from a DataFrame.\n",
      "Try using .loc[row_indexer,col_indexer] = value instead\n",
      "\n",
      "See the caveats in the documentation: https://pandas.pydata.org/pandas-docs/stable/user_guide/indexing.html#returning-a-view-versus-a-copy\n",
      "  df_random_selection['date'] = df_random_selection['year_month'] + pd.offsets.MonthEnd(0)\n"
     ]
    }
   ],
   "source": [
    "df_random_selection['year_month'] = pd.to_datetime(df_random_selection['year_month'].astype(str) + '-01')  # Set to first day of month\n",
    "\n",
    "df_random_selection['date'] = df_random_selection['year_month'] + pd.offsets.MonthEnd(0)"
   ]
  },
  {
   "cell_type": "code",
   "execution_count": 12,
   "metadata": {},
   "outputs": [
    {
     "data": {
      "text/html": [
       "<div>\n",
       "<style scoped>\n",
       "    .dataframe tbody tr th:only-of-type {\n",
       "        vertical-align: middle;\n",
       "    }\n",
       "\n",
       "    .dataframe tbody tr th {\n",
       "        vertical-align: top;\n",
       "    }\n",
       "\n",
       "    .dataframe thead th {\n",
       "        text-align: right;\n",
       "    }\n",
       "</style>\n",
       "<table border=\"1\" class=\"dataframe\">\n",
       "  <thead>\n",
       "    <tr style=\"text-align: right;\">\n",
       "      <th></th>\n",
       "      <th>stock_ticker</th>\n",
       "      <th>date</th>\n",
       "    </tr>\n",
       "  </thead>\n",
       "  <tbody>\n",
       "    <tr>\n",
       "      <th>7</th>\n",
       "      <td>AAPL</td>\n",
       "      <td>2000-01-31</td>\n",
       "    </tr>\n",
       "    <tr>\n",
       "      <th>2112</th>\n",
       "      <td>MSFT</td>\n",
       "      <td>2000-01-31</td>\n",
       "    </tr>\n",
       "    <tr>\n",
       "      <th>3573</th>\n",
       "      <td>AAPL</td>\n",
       "      <td>2000-02-29</td>\n",
       "    </tr>\n",
       "    <tr>\n",
       "      <th>5678</th>\n",
       "      <td>MSFT</td>\n",
       "      <td>2000-02-29</td>\n",
       "    </tr>\n",
       "    <tr>\n",
       "      <th>7139</th>\n",
       "      <td>AAPL</td>\n",
       "      <td>2000-03-31</td>\n",
       "    </tr>\n",
       "  </tbody>\n",
       "</table>\n",
       "</div>"
      ],
      "text/plain": [
       "     stock_ticker       date\n",
       "7            AAPL 2000-01-31\n",
       "2112         MSFT 2000-01-31\n",
       "3573         AAPL 2000-02-29\n",
       "5678         MSFT 2000-02-29\n",
       "7139         AAPL 2000-03-31"
      ]
     },
     "execution_count": 12,
     "metadata": {},
     "output_type": "execute_result"
    }
   ],
   "source": [
    "df_random_selection = df_random_selection.drop(columns=['year_month'])\n",
    "df_random_selection.head()"
   ]
  },
  {
   "cell_type": "code",
   "execution_count": 13,
   "metadata": {},
   "outputs": [],
   "source": [
    "df_merged = pd.merge(df_random_selection, df_filtered, on = ['date', 'stock_ticker'])"
   ]
  },
  {
   "cell_type": "code",
   "execution_count": 14,
   "metadata": {},
   "outputs": [],
   "source": [
    "df_merged.to_csv('random_ten_sample.csv', index = False)"
   ]
  },
  {
   "cell_type": "markdown",
   "metadata": {},
   "source": [
    "mkt_ind.csv cleaning"
   ]
  },
  {
   "cell_type": "code",
   "execution_count": 15,
   "metadata": {},
   "outputs": [
    {
     "data": {
      "text/html": [
       "<div>\n",
       "<style scoped>\n",
       "    .dataframe tbody tr th:only-of-type {\n",
       "        vertical-align: middle;\n",
       "    }\n",
       "\n",
       "    .dataframe tbody tr th {\n",
       "        vertical-align: top;\n",
       "    }\n",
       "\n",
       "    .dataframe thead th {\n",
       "        text-align: right;\n",
       "    }\n",
       "</style>\n",
       "<table border=\"1\" class=\"dataframe\">\n",
       "  <thead>\n",
       "    <tr style=\"text-align: right;\">\n",
       "      <th></th>\n",
       "      <th>rf</th>\n",
       "      <th>sp_ret</th>\n",
       "      <th>date</th>\n",
       "    </tr>\n",
       "  </thead>\n",
       "  <tbody>\n",
       "    <tr>\n",
       "      <th>0</th>\n",
       "      <td>0.0041</td>\n",
       "      <td>-0.050904</td>\n",
       "      <td>2000-01-31</td>\n",
       "    </tr>\n",
       "    <tr>\n",
       "      <th>1</th>\n",
       "      <td>0.0043</td>\n",
       "      <td>-0.020108</td>\n",
       "      <td>2000-02-29</td>\n",
       "    </tr>\n",
       "    <tr>\n",
       "      <th>2</th>\n",
       "      <td>0.0047</td>\n",
       "      <td>0.096720</td>\n",
       "      <td>2000-03-31</td>\n",
       "    </tr>\n",
       "    <tr>\n",
       "      <th>3</th>\n",
       "      <td>0.0046</td>\n",
       "      <td>-0.030796</td>\n",
       "      <td>2000-04-30</td>\n",
       "    </tr>\n",
       "    <tr>\n",
       "      <th>4</th>\n",
       "      <td>0.0050</td>\n",
       "      <td>-0.021915</td>\n",
       "      <td>2000-05-31</td>\n",
       "    </tr>\n",
       "  </tbody>\n",
       "</table>\n",
       "</div>"
      ],
      "text/plain": [
       "       rf    sp_ret        date\n",
       "0  0.0041 -0.050904  2000-01-31\n",
       "1  0.0043 -0.020108  2000-02-29\n",
       "2  0.0047  0.096720  2000-03-31\n",
       "3  0.0046 -0.030796  2000-04-30\n",
       "4  0.0050 -0.021915  2000-05-31"
      ]
     },
     "execution_count": 15,
     "metadata": {},
     "output_type": "execute_result"
    }
   ],
   "source": [
    "df = pd.read_csv('mkt_ind.csv')\n",
    "df.head()"
   ]
  }
 ],
 "metadata": {
  "kernelspec": {
   "display_name": "Python 3",
   "language": "python",
   "name": "python3"
  },
  "language_info": {
   "codemirror_mode": {
    "name": "ipython",
    "version": 3
   },
   "file_extension": ".py",
   "mimetype": "text/x-python",
   "name": "python",
   "nbconvert_exporter": "python",
   "pygments_lexer": "ipython3",
   "version": "3.10.11"
  }
 },
 "nbformat": 4,
 "nbformat_minor": 2
}
